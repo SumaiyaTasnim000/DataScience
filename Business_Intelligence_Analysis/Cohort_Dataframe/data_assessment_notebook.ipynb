{
 "cells": [
  {
   "cell_type": "markdown",
   "id": "1f9a9a00",
   "metadata": {},
   "source": [
    "# Data Assessment Notebook\n",
    "This notebook reproduces the cohort analysis for the OTT Subscription dataset."
   ]
  },
  {
   "cell_type": "code",
   "execution_count": null,
   "id": "a37d2a4a",
   "metadata": {},
   "outputs": [],
   "source": [
    "import pandas as pd\n",
    "pd.options.display.max_columns = 200\n",
    "xls = pd.ExcelFile('/mnt/data/Revenue.xlsx')\n",
    "sheets = {name: xls.parse(name) for name in xls.sheet_names}\n",
    "print('sheets:', list(sheets.keys()))"
   ]
  },
  {
   "cell_type": "code",
   "execution_count": null,
   "id": "2f9061be",
   "metadata": {},
   "outputs": [],
   "source": [
    "df_rev = sheets['revenue'].copy()\n",
    "# clean amount and dates\n",
    "import re\n",
    "\n",
    "def parse_amount(x):\n",
    "    if pd.isna(x): return 0.0\n",
    "    if isinstance(x, (int,float)): return float(x)\n",
    "    s = str(x).replace(',','').strip()\n",
    "    s = re.sub(r'[^\\d.\\-]','', s)\n",
    "    try:\n",
    "        return float(s) if s!='' else 0.0\n",
    "    except:\n",
    "        return 0.0\n",
    "\n",
    "df_rev['amount'] = df_rev['amount'].apply(parse_amount)\n",
    "df_rev['payment_date'] = pd.to_datetime(df_rev['payment_date'], errors='coerce')\n",
    "\n",
    "df_rev.head()"
   ]
  },
  {
   "cell_type": "code",
   "execution_count": null,
   "id": "c90f0e5c",
   "metadata": {},
   "outputs": [],
   "source": [
    "# After running the full script in the data_assessment_outputs folder, the CSVs are available at:\n",
    "print('/mnt/data/data_assessment_outputs')"
   ]
  },
  {
   "cell_type": "markdown",
   "id": "ae29ee51",
   "metadata": {},
   "source": [
    "## Files generated\n",
    "- country_cohort_metrics.csv\n",
    "- overall_cohort_metrics.csv\n",
    "- joined_transactions_full.csv\n",
    "\n",
    "Load and inspect these for the management-ready tables."
   ]
  }
 ],
 "metadata": {},
 "nbformat": 4,
 "nbformat_minor": 5
}
